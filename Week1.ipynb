{
 "cells": [
  {
   "cell_type": "code",
   "execution_count": 1,
   "id": "32ba596c-075c-417f-970f-3248ee912809",
   "metadata": {},
   "outputs": [
    {
     "name": "stdout",
     "output_type": "stream",
     "text": [
      "Original List: [1, 2, 3, 4, 5]\n",
      "List after adding element: [1, 2, 3, 4, 5, 6]\n",
      "List after removing element: [1, 2, 4, 5, 6]\n",
      "List after modifying element: [10, 2, 4, 5, 6]\n",
      "\n",
      "Original Dictionary: {'a': 1, 'b': 2, 'c': 3}\n",
      "Dictionary after adding key-value pair: {'a': 1, 'b': 2, 'c': 3, 'd': 4}\n",
      "Dictionary after removing key-value pair: {'a': 1, 'c': 3, 'd': 4}\n",
      "Dictionary after modifying value: {'a': 100, 'c': 3, 'd': 4}\n",
      "\n",
      "Original Set: {1, 2, 3, 4, 5}\n",
      "Set after adding element: {1, 2, 3, 4, 5, 6}\n",
      "Set after removing element: {1, 2, 4, 5, 6}\n"
     ]
    }
   ],
   "source": [
    "# Creating a list\n",
    "my_list = [1, 2, 3, 4, 5]\n",
    "print(\"Original List:\", my_list)\n",
    "\n",
    "# Adding elements to the list\n",
    "my_list.append(6)\n",
    "print(\"List after adding element:\", my_list)\n",
    "\n",
    "# Removing elements from the list\n",
    "my_list.remove(3)\n",
    "print(\"List after removing element:\", my_list)\n",
    "\n",
    "# Modifying elements in the list\n",
    "my_list[0] = 10\n",
    "print(\"List after modifying element:\", my_list)\n",
    "\n",
    "# Creating a dictionary\n",
    "my_dict = {'a': 1, 'b': 2, 'c': 3}\n",
    "print(\"\\nOriginal Dictionary:\", my_dict)\n",
    "\n",
    "# Adding key-value pairs to the dictionary\n",
    "my_dict['d'] = 4\n",
    "print(\"Dictionary after adding key-value pair:\", my_dict)\n",
    "\n",
    "# Removing key-value pairs from the dictionary\n",
    "del my_dict['b']\n",
    "print(\"Dictionary after removing key-value pair:\", my_dict)\n",
    "\n",
    "# Modifying values in the dictionary\n",
    "my_dict['a'] = 100\n",
    "print(\"Dictionary after modifying value:\", my_dict)\n",
    "\n",
    "# Creating a set\n",
    "my_set = {1, 2, 3, 4, 5}\n",
    "print(\"\\nOriginal Set:\", my_set)\n",
    "\n",
    "# Adding elements to the set\n",
    "my_set.add(6)\n",
    "print(\"Set after adding element:\", my_set)\n",
    "\n",
    "# Removing elements from the set\n",
    "my_set.remove(3)\n",
    "print(\"Set after removing element:\", my_set)\n"
   ]
  },
  {
   "cell_type": "code",
   "execution_count": null,
   "id": "dbe75ad4-6b4c-46e9-9b6c-cdd1b9cf7cac",
   "metadata": {},
   "outputs": [],
   "source": []
  }
 ],
 "metadata": {
  "kernelspec": {
   "display_name": "Python 3 (ipykernel)",
   "language": "python",
   "name": "python3"
  },
  "language_info": {
   "codemirror_mode": {
    "name": "ipython",
    "version": 3
   },
   "file_extension": ".py",
   "mimetype": "text/x-python",
   "name": "python",
   "nbconvert_exporter": "python",
   "pygments_lexer": "ipython3",
   "version": "3.11.3"
  }
 },
 "nbformat": 4,
 "nbformat_minor": 5
}
